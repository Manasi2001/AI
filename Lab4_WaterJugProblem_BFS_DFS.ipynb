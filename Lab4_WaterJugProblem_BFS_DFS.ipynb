{
  "nbformat": 4,
  "nbformat_minor": 0,
  "metadata": {
    "kernelspec": {
      "display_name": "Python 3",
      "language": "python",
      "name": "python3"
    },
    "language_info": {
      "codemirror_mode": {
        "name": "ipython",
        "version": 3
      },
      "file_extension": ".py",
      "mimetype": "text/x-python",
      "name": "python",
      "nbconvert_exporter": "python",
      "pygments_lexer": "ipython3",
      "version": "3.7.3"
    },
    "colab": {
      "name": "Lab4_WaterJugProblem_BFS_DFS.ipynb",
      "provenance": []
    }
  },
  "cells": [
    {
      "cell_type": "markdown",
      "metadata": {
        "id": "11wkD9miCeRD"
      },
      "source": [
        "<H1>WATER JUG PROBLEM USING BFS & DFS<H1>"
      ]
    },
    {
      "cell_type": "markdown",
      "metadata": {
        "id": "dza5n5dFCeRx"
      },
      "source": [
        "Given Problem: You are given a m liter jug and a n liter jug where $0 < m < n$. Both the jugs are initially empty. The jugs don't have markings to allow measuring smaller quantities. You have to use the jugs to measure $d$ liters of water where $d < n$. Determine the minimum no of operations to be performed to obtain $d$ liters of water in one of jug."
      ]
    },
    {
      "cell_type": "markdown",
      "metadata": {
        "id": "49CSJRegCeR0"
      },
      "source": [
        "<b>States:</b>  Amount of water in each respective jug, where the states are represented by [S(J1), S(J2)] and S(J1) is the amount in the first jug and S(J2) is the amount in the second jug \n",
        "\n",
        "<b>Capacity of Jug1 (J1):</b> 3 litres\n",
        "\n",
        "<b>Capacity of Jug1 (J2):</b> 4 litres\n",
        "\n",
        "<b>Initial State:</b> [0,0] \n",
        "\n",
        "<b>Goal state:</b> The user give the input the amount of water required in the jug (J2) i.e. [2,y] or [2,0] \n",
        "\n",
        "These are the initial operators used:\n",
        "\n",
        "<b>Operators:</b>  \n",
        "            1. Fill the first jug   \n",
        "            2. Fill the second jug  \n",
        "            3. Empty the first jug\n",
        "            4. Empty the second jug\n",
        "            5. Pour the first jug into the second jug\n",
        "            6. Pour the second jug into the first jug\n",
        "\n",
        "<b>Branching Factor:</b>   6 (because we have 6 operators)"
      ]
    },
    {
      "cell_type": "code",
      "metadata": {
        "id": "lQsMFG4DCeR5"
      },
      "source": [
        "import collections"
      ],
      "execution_count": 14,
      "outputs": []
    },
    {
      "cell_type": "code",
      "metadata": {
        "id": "dNVUsW-zCeR8"
      },
      "source": [
        "#This method return a key value for a given node. \n",
        "#Node is a list of two integers representing current state of the jugs\n",
        "def get_index(node):\n",
        "    return pow(7, node[0]) * pow(5, node[1])"
      ],
      "execution_count": 54,
      "outputs": []
    },
    {
      "cell_type": "code",
      "metadata": {
        "colab": {
          "base_uri": "https://localhost:8080/"
        },
        "id": "WIcErxNuCeR_",
        "outputId": "51d38be2-0971-4fbb-aaa3-d0bcb3a19ad1"
      },
      "source": [
        "get_index([4,0])"
      ],
      "execution_count": 55,
      "outputs": [
        {
          "output_type": "execute_result",
          "data": {
            "text/plain": [
              "2401"
            ]
          },
          "metadata": {
            "tags": []
          },
          "execution_count": 55
        }
      ]
    },
    {
      "cell_type": "code",
      "metadata": {
        "id": "8MUJG8UfCeSG"
      },
      "source": [
        "#This method accepts an input for asking the choice for type of searching required i.e. BFS or DFS.\n",
        "#Method return True for BFS, False otherwise\n",
        "def get_search_type():\n",
        "    s = input(\"Enter 'b' for BFS, 'd' for DFS: \")\n",
        "    #TODO:convert the input into lowercase using lower() method\n",
        "    s = s.lower()\n",
        "    \n",
        "    #TODO: Accept the input again if given input is not as 'b' for BFS, 'd' for DFS\n",
        "    while s!='b' and s!='d':\n",
        "        s = input(\"The input is not valid! Enter 'b' for BFS, 'd' for DFS: \")\n",
        "        s = s[0].lower()\n",
        "    #TODO: Return True for BFS option selected     \n",
        "    return s=='b'"
      ],
      "execution_count": 56,
      "outputs": []
    },
    {
      "cell_type": "code",
      "metadata": {
        "id": "paLCmfdNCeSJ"
      },
      "source": [
        "#This method accept volumes of the jugs as an input from the user.\n",
        "#Returns a list of two integeres representing volumes of the jugs.\n",
        "def get_jugs():\n",
        "    print(\"Receiving the volume of the jugs...\")\n",
        "    #TODO: Create an empty list\n",
        "    jugs = []\n",
        "    \n",
        "    temp = int(input(\"Enter first jug volume (>1): \"))\n",
        "    while temp < 1:\n",
        "        temp = int(input(\"Enter a valid amount (>1): \"))       \n",
        "    #TODO: Append the input quantity of jug into jugs list\n",
        "    jugs.append(temp)\n",
        "    \n",
        "    temp = int(input(\"Enter second jug volume (>1): \"))\n",
        "    while temp < 1:\n",
        "        temp = int(input(\"Enter a valid amount (>1): \"))     \n",
        "    \n",
        "    #TODO: Append the input quantity of jug into jugs list\n",
        "    jugs.append(temp)\n",
        "    \n",
        "    #TODO: Return the list\n",
        "    return jugs"
      ],
      "execution_count": 57,
      "outputs": []
    },
    {
      "cell_type": "code",
      "metadata": {
        "id": "5FRiXj2DCeSL"
      },
      "source": [
        "#This method accepts the desired amount of water as an input from the user whereas \n",
        "#the parameter jugs is a list of two integers representing volumes of the jugs\n",
        "#Returns the desired amount of water as goal\n",
        "def get_goal(jugs):\n",
        "    \n",
        "    print(\"Receiving the desired amount of the water...\")\n",
        "\n",
        "    #TODO: Find the maximum capacity of jugs using max()\n",
        "    max_amount = max(jugs)\n",
        "    s = \"Enter the desired amount of water (1 - {0}): \".format(max_amount)\n",
        "    goal_amount = int(input(s))\n",
        "    #TODO: Accept the input again from the user if the bound of goal_amount is outside the limit between [1,max_amount]\n",
        "    while goal_amount not in range(1, max_amount+1):\n",
        "        goal_amount = int(input(\"Enter a valid amount (1 - {0}): \".format(max_amount)))\n",
        "    \n",
        "    #TODO:Return the goal amount of water\n",
        "    return goal_amount\n"
      ],
      "execution_count": 58,
      "outputs": []
    },
    {
      "cell_type": "code",
      "metadata": {
        "id": "HqbsZMwiCeSO"
      },
      "source": [
        "#This method checks whether the given path matches the goal node.\n",
        "#The path parameter is a list of nodes representing the path to be checked\n",
        "#The goal_amount parameter is an integer representing the desired amount of water\n",
        "def is_goal(path, goal_amount):\n",
        "    \n",
        "    print(\"Checking if the goal is achieved...\")\n",
        "    \n",
        "    #TODO: Return the status of the latest path matches with the goal_amount of another jug\n",
        "    return path[-1][0] == goal_amount "
      ],
      "execution_count": 59,
      "outputs": []
    },
    {
      "cell_type": "code",
      "metadata": {
        "id": "zJYivup6CeSQ"
      },
      "source": [
        "#This method validates whether the given node is already visited.\n",
        "#The parameter node is a list of two integers representing current state of the jugs\n",
        "#The parameter check_dict is a dictionary storing visited nodes\n",
        "def been_there(node, check_dict):\n",
        "    \n",
        "    print(\"Checking if {0} is visited before...\".format(node))\n",
        "\n",
        "    #TODO: Return True whether a given node already exisiting in a dictionary, otherwise False. Use get() method of dictionary\n",
        "    return check_dict.get(get_index(node))"
      ],
      "execution_count": 60,
      "outputs": []
    },
    {
      "cell_type": "code",
      "metadata": {
        "id": "eI4GoLCRCeST"
      },
      "source": [
        "#This method returns the list of all possible transitions\n",
        "#The parameter jugs is a list of two integers representing volumes of the jugs\n",
        "#The parameter path is a list of nodes represeting the current path\n",
        "#The parameter check_dict is a dictionary storing visited nodes\n",
        "def next_transitions(jugs, path, check_dict):\n",
        "    \n",
        "    print(\"Finding next transitions and checking for the loops...\")\n",
        "    \n",
        "    #TODO: create an empty list\n",
        "    result = []\n",
        "    next_nodes = []\n",
        "    node = []\n",
        "    \n",
        "    a_max = jugs[0]\n",
        "    b_max = jugs[1]\n",
        "    \n",
        "    #TODO: initial amount in the first jug using path parameter\n",
        "    a = path[-1][0]  \n",
        "    #TODO: initial amount in the second jug using path parameter\n",
        "    b = path[-1][1]\n",
        "\n",
        "    #Operation Used in Water Jug problem\n",
        "    # 1. fill in the first jug\n",
        "    node.append(a_max)\n",
        "    node.append(b)\n",
        "    if not been_there(node, check_dict):\n",
        "        next_nodes.append(node)\n",
        "    node = []\n",
        "\n",
        "    # 2. fill in the second jug\n",
        "    #TODO: Append with the initial amount of water in first jug\n",
        "    node.append(a)\n",
        "    #TODO: Append with the max amount of water in second jug\n",
        "    node.append(b_max)\n",
        "    #TODO: Check if node is not visited then append the node in next_nodes. Use been_there(..,..) method \n",
        "    if not been_there(node, check_dict):\n",
        "        next_nodes.append(node)\n",
        "    node = []\n",
        "\n",
        "    # 3. second jug to first jug\n",
        "    node.append(min(a_max, a + b))\n",
        "    node.append(b - (node[0] - a))  # b - ( a' - a)\n",
        "    if not been_there(node, check_dict):\n",
        "        next_nodes.append(node)\n",
        "    node = []\n",
        "\n",
        "    # 4. first jug to second jug\n",
        "    #TODO: Append the minimum between the a+b and b_max\n",
        "    node.append(min(a+b, b_max))\n",
        "    node.insert(0, a - (node[0] - b))\n",
        "    if not been_there(node, check_dict):\n",
        "        next_nodes.append(node)\n",
        "    node = []\n",
        "\n",
        "    # 5. empty first jug\n",
        "    #TODO: Append 0 to empty first jug\n",
        "    node.append(0)\n",
        "    #TODO:Append b amount for second jug\n",
        "    node.append(b)\n",
        "    if not been_there(node, check_dict):\n",
        "        next_nodes.append(node)\n",
        "    node = []\n",
        "\n",
        "    # 6. empty second jug\n",
        "    #TODO:Append a amount for first jug\n",
        "    node.append(a)\n",
        "    #TODO: Append 0 to empty second jug\n",
        "    node.append(0)\n",
        "    if not been_there(node, check_dict):\n",
        "        next_nodes.append(node)\n",
        "\n",
        "    # create a list of next paths\n",
        "    for i in range(0, len(next_nodes)):\n",
        "        temp = list(path)\n",
        "        #TODO: Append the ith index of next_nodes to temp\n",
        "        temp.append(next_nodes[i])\n",
        "        result.append(temp)\n",
        "\n",
        "    if len(next_nodes) == 0:\n",
        "        print(\"No more unvisited nodes...\\nBacktracking...\")\n",
        "    else:\n",
        "        print(\"Possible transitions: \")\n",
        "        for nnode in next_nodes:\n",
        "            print(nnode)\n",
        "    #TODO: return result\n",
        "    return result"
      ],
      "execution_count": 61,
      "outputs": []
    },
    {
      "cell_type": "code",
      "metadata": {
        "id": "8wyLKeeCCeSb"
      },
      "source": [
        "# This method returns a string explaining the transition from old state/node to new state/node\n",
        "# The parameter old is a list representing old state/node\n",
        "# The parameter new is a list representing new state/node\n",
        "# The parameter jugs is a list of two integers representing volumes of the jugs\n",
        "     \n",
        "def transition(old, new, jugs):\n",
        "    \n",
        "    #TODO: Get the amount of water from old state/node for first Jug\n",
        "    a = old[0]\n",
        "    #TODO: Get the amount of water from old state/node for second Jug\n",
        "    b = old[1]\n",
        "    #TODO: Get the amount of water from new state/node for first Jug\n",
        "    a_prime = new[0]\n",
        "    #TODO: Get the amount of water from new state/node for second Jug\n",
        "    b_prime = new[1]\n",
        "    #TODO: Get the amount of water from jugs representing volume for first Jug\n",
        "    a_max = jugs[0]\n",
        "    #TODO: Get the amount of water from jugs representing volume for second Jug\n",
        "    b_max = jugs[1]\n",
        "\n",
        "    if a > a_prime:\n",
        "        if b == b_prime:\n",
        "            return \"Clear {0}-liter jug:\\t\\t\\t\".format(a_max)\n",
        "        else:\n",
        "            return \"Pour {0}-liter jug into {1}-liter jug:\\t\".format(a_max, b_max)\n",
        "    else:\n",
        "        if b > b_prime:\n",
        "            if a == a_prime:\n",
        "                return \"Clear {0}-liter jug:\\t\\t\\t\".format(b_max)\n",
        "            else:\n",
        "                return \"Pour {0}-liter jug into {1}-liter jug:\\t\".format(b_max, a_max)\n",
        "        else:\n",
        "            if a == a_prime:\n",
        "                return \"Fill {0}-liter jug:\\t\\t\\t\".format(b_max)\n",
        "            else:\n",
        "                return \"Fill {0}-liter jug:\\t\\t\\t\".format(a_max)\n"
      ],
      "execution_count": 62,
      "outputs": []
    },
    {
      "cell_type": "code",
      "metadata": {
        "id": "cXjWl4UYCeSh"
      },
      "source": [
        "#This method prints the goal path\n",
        "#The path is a list of nodes representing the goal path\n",
        "#The jugs is a list of two integers representing volumes of the jugs\n",
        "     \n",
        "def print_path(path, jugs):\n",
        "    \n",
        "    print(\"Starting from:\\t\\t\\t\\t\", path[0])\n",
        "    for i in  range(0, len(path) - 1):\n",
        "        print(i+1,\":\", transition(path[i], path[i+1], jugs), path[i+1])"
      ],
      "execution_count": 63,
      "outputs": []
    },
    {
      "cell_type": "code",
      "metadata": {
        "id": "w1WtZ2NsCeSn"
      },
      "source": [
        "#This method searches for a path between starting node and goal node\n",
        "# The parameter starting_node is a list of list of two integers representing initial state of the jugs\n",
        "#The parameter jugs a list of two integers representing volumes of the jugs\n",
        "#The parameter goal_amount is an integer represting the desired amount\n",
        "#The parameter check_dict is  a dictionary storing visited nodes\n",
        "#The parameter is_breadth is implements BFS, if True; DFS otherwise\n",
        "def search(starting_node, jugs, goal_amount, check_dict, is_breadth):\n",
        "    \n",
        "    if is_breadth:\n",
        "        print(\"Implementing BFS...\")\n",
        "    else:\n",
        "        print(\"Implementing DFS...\")\n",
        "\n",
        "    goal = []\n",
        "    #TODO: SET accomplished to be False\n",
        "    accomplished = False\n",
        "    \n",
        "    #TODO: Call a deque() using collections \n",
        "    q = collections.deque()\n",
        "    q.appendleft(starting_node)\n",
        "    \n",
        "    while len(q) != 0:\n",
        "        path = q.popleft()\n",
        "        check_dict[get_index(path[-1])] = True\n",
        "        if len(path) >= 2:\n",
        "            print(transition(path[-2], path[-1], jugs), path[-1])\n",
        "        if is_goal(path, goal_amount):\n",
        "            #TODO: Set accomplished to be True\n",
        "            accomplished = True\n",
        "            goal = path\n",
        "            break\n",
        "\n",
        "        #TODO: Call next_transitions method for generating the further nodes\n",
        "        next_moves = next_transitions(jugs, path, check_dict)\n",
        "        #TODO: Iterate over the next_moves list\n",
        "        for i in next_moves:\n",
        "            if is_breadth:\n",
        "                q.append(i)\n",
        "            else:\n",
        "                q.appendleft(i)\n",
        "\n",
        "    if accomplished:\n",
        "        print(\"The goal is achieved\\nPrinting the sequence of the moves...\\n\")\n",
        "        print_path(goal, jugs)\n",
        "    else:\n",
        "        print(\"Problem cannot be solved.\")\n"
      ],
      "execution_count": 64,
      "outputs": []
    },
    {
      "cell_type": "code",
      "metadata": {
        "colab": {
          "base_uri": "https://localhost:8080/"
        },
        "id": "ekBg9Y2lCeSr",
        "outputId": "9609c63f-a218-4940-8930-a0a5fbd79e63"
      },
      "source": [
        "if __name__ == '__main__':\n",
        "    starting_node = [[0, 0]]\n",
        "    #TODO: Call the get_jugs() method\n",
        "    jugs = get_jugs()\n",
        "    #TODO: Call the get_goal() method\n",
        "    goal_amount = get_goal(jugs)\n",
        "    #TODO: Create an empty dictionary\n",
        "    check_dict = {}\n",
        "    #TODO: call the get_search_type() method \n",
        "    is_breadth = get_search_type()\n",
        "    #TODO: Call the search method with the required parameters\n",
        "    search(starting_node, jugs, goal_amount, check_dict, is_breadth)"
      ],
      "execution_count": 65,
      "outputs": [
        {
          "output_type": "stream",
          "text": [
            "Receiving the volume of the jugs...\n",
            "Enter first jug volume (>1): 3\n",
            "Enter second jug volume (>1): 4\n",
            "Receiving the desired amount of the water...\n",
            "Enter the desired amount of water (1 - 4): 2\n",
            "Enter 'b' for BFS, 'd' for DFS: b\n",
            "Implementing BFS...\n",
            "Checking if the goal is achieved...\n",
            "Finding next transitions and checking for the loops...\n",
            "Checking if [3, 0] is visited before...\n",
            "Checking if [0, 4] is visited before...\n",
            "Checking if [0, 0] is visited before...\n",
            "Checking if [0, 0] is visited before...\n",
            "Checking if [0, 0] is visited before...\n",
            "Checking if [0, 0] is visited before...\n",
            "Possible transitions: \n",
            "[3, 0]\n",
            "[0, 4]\n",
            "Fill 3-liter jug:\t\t\t [3, 0]\n",
            "Checking if the goal is achieved...\n",
            "Finding next transitions and checking for the loops...\n",
            "Checking if [3, 0] is visited before...\n",
            "Checking if [3, 4] is visited before...\n",
            "Checking if [3, 0] is visited before...\n",
            "Checking if [0, 3] is visited before...\n",
            "Checking if [0, 0] is visited before...\n",
            "Checking if [3, 0] is visited before...\n",
            "Possible transitions: \n",
            "[3, 4]\n",
            "[0, 3]\n",
            "Fill 4-liter jug:\t\t\t [0, 4]\n",
            "Checking if the goal is achieved...\n",
            "Finding next transitions and checking for the loops...\n",
            "Checking if [3, 4] is visited before...\n",
            "Checking if [0, 4] is visited before...\n",
            "Checking if [3, 1] is visited before...\n",
            "Checking if [0, 4] is visited before...\n",
            "Checking if [0, 4] is visited before...\n",
            "Checking if [0, 0] is visited before...\n",
            "Possible transitions: \n",
            "[3, 4]\n",
            "[3, 1]\n",
            "Fill 4-liter jug:\t\t\t [3, 4]\n",
            "Checking if the goal is achieved...\n",
            "Finding next transitions and checking for the loops...\n",
            "Checking if [3, 4] is visited before...\n",
            "Checking if [3, 4] is visited before...\n",
            "Checking if [3, 4] is visited before...\n",
            "Checking if [3, 4] is visited before...\n",
            "Checking if [0, 4] is visited before...\n",
            "Checking if [3, 0] is visited before...\n",
            "No more unvisited nodes...\n",
            "Backtracking...\n",
            "Pour 3-liter jug into 4-liter jug:\t [0, 3]\n",
            "Checking if the goal is achieved...\n",
            "Finding next transitions and checking for the loops...\n",
            "Checking if [3, 3] is visited before...\n",
            "Checking if [0, 4] is visited before...\n",
            "Checking if [3, 0] is visited before...\n",
            "Checking if [0, 3] is visited before...\n",
            "Checking if [0, 3] is visited before...\n",
            "Checking if [0, 0] is visited before...\n",
            "Possible transitions: \n",
            "[3, 3]\n",
            "Fill 3-liter jug:\t\t\t [3, 4]\n",
            "Checking if the goal is achieved...\n",
            "Finding next transitions and checking for the loops...\n",
            "Checking if [3, 4] is visited before...\n",
            "Checking if [3, 4] is visited before...\n",
            "Checking if [3, 4] is visited before...\n",
            "Checking if [3, 4] is visited before...\n",
            "Checking if [0, 4] is visited before...\n",
            "Checking if [3, 0] is visited before...\n",
            "No more unvisited nodes...\n",
            "Backtracking...\n",
            "Pour 4-liter jug into 3-liter jug:\t [3, 1]\n",
            "Checking if the goal is achieved...\n",
            "Finding next transitions and checking for the loops...\n",
            "Checking if [3, 1] is visited before...\n",
            "Checking if [3, 4] is visited before...\n",
            "Checking if [3, 1] is visited before...\n",
            "Checking if [0, 4] is visited before...\n",
            "Checking if [0, 1] is visited before...\n",
            "Checking if [3, 0] is visited before...\n",
            "Possible transitions: \n",
            "[0, 1]\n",
            "Fill 3-liter jug:\t\t\t [3, 3]\n",
            "Checking if the goal is achieved...\n",
            "Finding next transitions and checking for the loops...\n",
            "Checking if [3, 3] is visited before...\n",
            "Checking if [3, 4] is visited before...\n",
            "Checking if [3, 3] is visited before...\n",
            "Checking if [2, 4] is visited before...\n",
            "Checking if [0, 3] is visited before...\n",
            "Checking if [3, 0] is visited before...\n",
            "Possible transitions: \n",
            "[2, 4]\n",
            "Clear 3-liter jug:\t\t\t [0, 1]\n",
            "Checking if the goal is achieved...\n",
            "Finding next transitions and checking for the loops...\n",
            "Checking if [3, 1] is visited before...\n",
            "Checking if [0, 4] is visited before...\n",
            "Checking if [1, 0] is visited before...\n",
            "Checking if [0, 1] is visited before...\n",
            "Checking if [0, 1] is visited before...\n",
            "Checking if [0, 0] is visited before...\n",
            "Possible transitions: \n",
            "[1, 0]\n",
            "Pour 3-liter jug into 4-liter jug:\t [2, 4]\n",
            "Checking if the goal is achieved...\n",
            "The goal is achieved\n",
            "Printing the sequence of the moves...\n",
            "\n",
            "Starting from:\t\t\t\t [0, 0]\n",
            "1 : Fill 3-liter jug:\t\t\t [3, 0]\n",
            "2 : Pour 3-liter jug into 4-liter jug:\t [0, 3]\n",
            "3 : Fill 3-liter jug:\t\t\t [3, 3]\n",
            "4 : Pour 3-liter jug into 4-liter jug:\t [2, 4]\n"
          ],
          "name": "stdout"
        }
      ]
    }
  ]
}