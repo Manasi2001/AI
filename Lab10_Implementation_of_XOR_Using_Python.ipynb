{
  "nbformat": 4,
  "nbformat_minor": 0,
  "metadata": {
    "kernelspec": {
      "display_name": "Python 3",
      "language": "python",
      "name": "python3"
    },
    "language_info": {
      "codemirror_mode": {
        "name": "ipython",
        "version": 3
      },
      "file_extension": ".py",
      "mimetype": "text/x-python",
      "name": "python",
      "nbconvert_exporter": "python",
      "pygments_lexer": "ipython3",
      "version": "3.7.1"
    },
    "colab": {
      "name": "Lab10_Implementation_of_XOR_Using_Python.ipynb",
      "provenance": []
    }
  },
  "cells": [
    {
      "cell_type": "markdown",
      "metadata": {
        "id": "ETFpn2tLcKaa"
      },
      "source": [
        "# Lab10: Implementation of XOR using Python"
      ]
    },
    {
      "cell_type": "markdown",
      "metadata": {
        "id": "CjMtLfbYcKae"
      },
      "source": [
        "Implementing logic gates using neural networks help understand the mathematical computation by which a neural network processes its inputs to arrive at a certain output. This neural network will deal with the XOR logic problem. An XOR (exclusive OR gate) is a digital logic gate that gives a true output only when both its inputs differ from each other. The truth table for an XOR gate is shown below:\n",
        "<img src=\"https://miro.medium.com/max/246/1*01idVj7sVw2ZnGZFapvW4A.png\">"
      ]
    },
    {
      "cell_type": "markdown",
      "metadata": {
        "id": "KOOQt0tacKae"
      },
      "source": [
        "The goal of the neural network is to classify the input patterns according to the above truth table. If the input patterns are plotted according to their outputs, it is seen that these points are not linearly separable. Hence the neural network has to be modeled to separate these input patterns using decision planes.\n",
        "<img src=\"https://miro.medium.com/max/640/1*_HLG8KlGJFZxtWoB8J1kFA.png\" width=\"500\" height=\"500\">"
      ]
    },
    {
      "cell_type": "markdown",
      "metadata": {
        "id": "ZdPKQKp-cKaf"
      },
      "source": [
        "## THE NEURAL NETWORK MODEL"
      ]
    },
    {
      "cell_type": "markdown",
      "metadata": {
        "id": "UuNr1WS8cKaf"
      },
      "source": [
        "As mentioned before, the neural network needs to produce two different decision planes to linearly separate the input data based on the output patterns. This is achieved by using the concept of hidden layers. The neural network will consist of one input layer with two nodes (X1,X2); one hidden layer with two nodes (since two decision planes are needed); and one output layer with one node (Y). Hence, the neural network looks like this:\n",
        "<img src=\"https://miro.medium.com/max/543/1*qXt_iBvWods-FOvTldxYFw.png\" width=\"500\" height=\"500\">"
      ]
    },
    {
      "cell_type": "markdown",
      "metadata": {
        "id": "v192yF92cKaf"
      },
      "source": [
        "## THE SIGMOID NEURON"
      ]
    },
    {
      "cell_type": "markdown",
      "metadata": {
        "id": "ZtcvJ6fLcKaf"
      },
      "source": [
        "To implement an XOR gate, I will be using a Sigmoid Neuron as nodes in the neural network. The characteristics of a Sigmoid Neuron are:\n",
        "1. Can accept real values as input.\n",
        "2. The value of the activation is equal to the weighted sum of its inputs\n",
        "i.e. ∑wi xi\n",
        "3. The output of the sigmoid neuron is a function of the sigmoid function, which is also known as a logistic regression function. The sigmoid function is a continuous function which outputs values between 0 and 1:\n",
        "\n",
        "<img src=\"https://miro.medium.com/max/640/1*R4twuYNUKXVzsvgOGkPZsA.png\" width=\"500\" height=\"500\">"
      ]
    },
    {
      "cell_type": "markdown",
      "metadata": {
        "id": "pBqLB4-ZcKaf"
      },
      "source": [
        "## THE LEARNING ALGORITHM"
      ]
    },
    {
      "cell_type": "markdown",
      "metadata": {
        "id": "PQmilDh3cKag"
      },
      "source": [
        "The information of a neural network is stored in the interconnections between the neurons i.e. the weights. A neural network learns by updating its weights according to a learning algorithm that helps it converge to the expected output. The learning algorithm is a principled way of changing the weights and biases based on the loss function.\n",
        "1. Initialize the weights and biases randomly.\n",
        "2. Iterate over the data\n",
        "    i. Compute the predicted output using the sigmoid function\n",
        "    ii. Compute the loss using the square error loss function\n",
        "    iii. W(new) = W(old) — α ∆W\n",
        "    iv. B(new) = B(old) — α ∆B\n",
        "3. Repeat until the error is minimal\n",
        "\n",
        "This is a fairly simple learning algorithm consisting of only arithmetic operations to update the weights and biases. The algorithm can be divided into two parts: the forward pass and the backward pass also known as “backpropagation.”"
      ]
    },
    {
      "cell_type": "markdown",
      "metadata": {
        "id": "Jg6zPaIRcKag"
      },
      "source": [
        "## GRADIENT DESCENT"
      ]
    },
    {
      "cell_type": "markdown",
      "metadata": {
        "id": "lMJ-u7rbcKag"
      },
      "source": [
        "The loss function of the sigmoid neuron is the squared error loss. If we plot the loss/error against the weights we get something like this:\n",
        "<img src=\"https://miro.medium.com/max/640/1*rNDygHX0Ds1In2mBE1ZC4g.png\" width=\"500\" height=\"500\">\n",
        "\n",
        "Our goal is to find the weight vector corresponding to the point where the error is minimum i.e. the minima of the error gradient. And here is where calculus comes into play."
      ]
    },
    {
      "cell_type": "markdown",
      "metadata": {
        "id": "arWaJn4CcKag"
      },
      "source": [
        "## THE MATH BEHIND GRADIENT DESCENT"
      ]
    },
    {
      "cell_type": "markdown",
      "metadata": {
        "id": "8QgMsKAMcKag"
      },
      "source": [
        "Error can be simply written as the difference between the predicted outcome and the actual outcome. Mathematically:\n",
        "\n",
        "<img src=\"https://miro.medium.com/max/139/1*bSE-d1xTHdPMc_woav7m-w.png\" width=\"100\" height=\"100\">\n",
        "\n",
        "where t is the targeted/expected output & y is the predicted output.\n",
        "\n",
        "However, is it fair to assign different error values for the same amount of error? For example, the absolute difference between -1 and 0 & 1 and 0 is the same, however the above formula would sway things negatively for the outcome that predicted -1. To solve this problem, we use square error loss.(Note modulus is not used, as it makes it harder to differentiate). Further, this error is divided by 2, to make it easier to differentiate, as we’ll see in the following steps.\n",
        "\n",
        "<img src=\"https://miro.medium.com/max/161/1*FawfyTR5ga85aFd8Jhbbjg.png\" width=\"100\" height=\"100\">\n",
        "\n",
        "Since, there may be many weights contributing to this error, we take the partial derivative, to find the minimum error, with respect to each weight at a time. The change in weights are different for the output layer weights ($W_{31}$ & $W_{32}$) and different for the hidden layer weights ($W_{11}$, $W_{12}$, $W_{21}$, $W_{22}$). Let the outer layer weights be $w_{o}$ while the hidden layer weights be $w_{h}$.\n",
        "\n",
        "<img src=\"https://miro.medium.com/max/60/1*pZ8p9GnRNp7pI9_LtD755A.png\" width=\"50\" height=\"50\">\n",
        "\n",
        "We’ll first find ∆W for the outer layer weights. Since the outcome is a function of activation and further activation is a function of weights, by chain rule:\n",
        "\n",
        "<img src=\"https://miro.medium.com/max/282/1*lQmnCwjEwo0MdVjvRswCHg.png\" width=\"250\" height=\"100\">\n",
        "\n",
        "On solving,\n",
        "\n",
        "<img src=\"https://miro.medium.com/max/353/1*BRGgm_r1yfh0_Zwd6QMfiQ.png\" width=\"250\" height=\"100\">\n",
        "\n",
        "Note that for $X_{o}$ is nothing but the output from the hidden layer nodes. This output from the hidden layer node is again a function of the activation and correspondingly a function of weights. Hence, the chain rule expands for the hidden layer weights:\n",
        "\n",
        "<img src=\"https://miro.medium.com/max/407/1*ytRh9SKcH5beWceMUNyLFw.png\" width=\"300\" height=\"150\">\n",
        "\n",
        "Which comes to,\n",
        "\n",
        "<img src=\"https://miro.medium.com/max/550/1*l7rYNFhoaD5GDU_oNo3XwQ.png\" width=\"500\" height=\"250\">\n",
        "\n",
        "NOTE: $X_{o}$ can also be considered to be $Y_{h}$ i.e. the output from the hidden layer is the input to the output layer. $X_{h}$ is the input to the hidden layer, which are the actual input patterns from the truth table.\n",
        "\n"
      ]
    },
    {
      "cell_type": "code",
      "metadata": {
        "id": "74BzAKnUcKah"
      },
      "source": [
        "#Import the necessary library\n",
        "import numpy as np \n",
        "#np.random.seed(0)"
      ],
      "execution_count": 61,
      "outputs": []
    },
    {
      "cell_type": "code",
      "metadata": {
        "id": "8SAXLWfUcKah"
      },
      "source": [
        "#TODO: write the sigmoid function sig(x) = 1/(1+e^-x)\n",
        "def sigmoid (x):\n",
        "    return 1/(1+np.exp(-x))"
      ],
      "execution_count": 54,
      "outputs": []
    },
    {
      "cell_type": "code",
      "metadata": {
        "id": "DkekgYdzcKah"
      },
      "source": [
        "#TODO: write the derivative of sigmoid function sig'(x) = x * (1-x)\n",
        "def sigmoid_derivative(x):\n",
        "    return x * (1-x)"
      ],
      "execution_count": 55,
      "outputs": []
    },
    {
      "cell_type": "code",
      "metadata": {
        "id": "mJPMAORucKah"
      },
      "source": [
        "#Set the Input datasets\n",
        "inputs = np.array([[0,0],[0,1],[1,0],[1,1]])\n",
        "#Set the expected output\n",
        "expected_output = np.array([[0],[1],[1],[0]])"
      ],
      "execution_count": 56,
      "outputs": []
    },
    {
      "cell_type": "code",
      "metadata": {
        "id": "naqAvJdHcKah"
      },
      "source": [
        "#TODO:Set the epoch as 10000\n",
        "epochs = 10000\n",
        "#TODO:Set the learning rate as 0.1\n",
        "lr = 0.1\n",
        "#TODO: Set the number of neuron at input layer, hidden layer and output layers as 2, 2, 1 respectively\n",
        "inputLayerNeurons = 2\n",
        "hiddenLayerNeurons = 2 \n",
        "outputLayerNeurons = 1"
      ],
      "execution_count": 57,
      "outputs": []
    },
    {
      "cell_type": "code",
      "metadata": {
        "id": "6zeYGhPpcKai"
      },
      "source": [
        "#Random weights and bias initialization\n",
        "#TODO: Initialize the uniform distribution to hiddent weight as (inputLayerNeurons,hiddenLayerNeurons)\n",
        "hidden_weights = np.random.uniform(size=(inputLayerNeurons,hiddenLayerNeurons))\n",
        "#TODO: Initialize the uniform distribution to hiddent bias as (1,hiddenLayerNeurons)\n",
        "hidden_bias =np.random.uniform(size=(1,hiddenLayerNeurons))\n",
        "#TODO: Initialize the uniform distribution to output weight as (hiddenLayerNeurons,outputLayerNeurons)\n",
        "output_weights = np.random.uniform(size=(hiddenLayerNeurons,outputLayerNeurons))\n",
        "#TODO: Initialize the uniform distribution to output bias as (1,outputLayerNeurons)\n",
        "output_bias = np.random.uniform(size=(1,outputLayerNeurons))"
      ],
      "execution_count": 58,
      "outputs": []
    },
    {
      "cell_type": "code",
      "metadata": {
        "colab": {
          "base_uri": "https://localhost:8080/"
        },
        "id": "z5_Eb_4EcKai",
        "outputId": "2355c3f6-ff2c-4f7b-b3ee-a12f6c8917c4"
      },
      "source": [
        "#Display the hidden_weights, hidden_bias, output_weights, and output_bias\n",
        "print(\"Initial hidden weights: \",end='')\n",
        "print(*hidden_weights)\n",
        "print(\"Initial hidden biases: \",end='')\n",
        "print(*hidden_bias)\n",
        "print(\"Initial output weights: \",end='')\n",
        "print(*output_weights)\n",
        "print(\"Initial output biases: \",end='')\n",
        "print(*output_bias)"
      ],
      "execution_count": 59,
      "outputs": [
        {
          "output_type": "stream",
          "text": [
            "Initial hidden weights: [0.63197771 0.33122378] [0.66304006 0.33222391]\n",
            "Initial hidden biases: [0.21579992 0.29924756]\n",
            "Initial output weights: [0.80125808] [0.20129894]\n",
            "Initial output biases: [0.3532511]\n"
          ],
          "name": "stdout"
        }
      ]
    },
    {
      "cell_type": "code",
      "metadata": {
        "id": "o3rvHVrtcKai"
      },
      "source": [
        "#Training algorithm\n",
        "#TODO: Iterate over epochs\n",
        "for _ in range(epochs):\n",
        "\t#Forward Propagation\n",
        "    #TODO: Perform the dot operations between inputs and hidden_weights. Use np.dot() function\n",
        "\thidden_layer_activation = np.dot(inputs, hidden_weights)\n",
        "\thidden_layer_activation += hidden_bias\n",
        "    #TODO: Call the sigmoid method for hidden_layer_activation\n",
        "\thidden_layer_output = sigmoid(hidden_layer_activation)\n",
        "    \n",
        "    #TODO: Perform the dot operations between hidden_layer_output and output_weights. Use np.dot() function\n",
        "\toutput_layer_activation = np.dot(hidden_layer_output, output_weights)\n",
        "\toutput_layer_activation += output_bias\n",
        "    #TODO: Call the sigmoid method for output_layer_activation\n",
        "\tpredicted_output = sigmoid(output_layer_activation)\n",
        "\n",
        "\t#Backpropagation\n",
        "    #TODO: Calculate the error by performing (expected_output - predicted_output)\n",
        "\terror = expected_output - predicted_output\n",
        "    #TODO: Calculate the derivate of predicted output by performing error * sigmoid_derivative(predicted_output)\n",
        "\td_predicted_output = error * sigmoid_derivative(predicted_output)\n",
        "\t\n",
        "\terror_hidden_layer = d_predicted_output.dot(output_weights.T)\n",
        "    \n",
        "    #TODO: Calculate the derivate of hidden layer by performing error_hidden_layer * sigmoid_derivative(hidden_layer_output)\n",
        "\td_hidden_layer = error_hidden_layer * sigmoid_derivative(hidden_layer_output)\n",
        "\n",
        "\t#Updating Weights and Biases\n",
        "    #TODO: Update the output weights as output_weights = output_weights + hidden_layer_output.T.dot(d_predicted_output) * lr\n",
        "\toutput_weights = output_weights + hidden_layer_output.T.dot(d_predicted_output) * lr\n",
        "\toutput_bias += np.sum(d_predicted_output,axis=0,keepdims=True) * lr\n",
        "    #TODO: Update the hidden weights as hidden_weights = height_weights + inputs.T.dot(d_hidden_layer) * lr\n",
        "\thidden_weights = hidden_weights + inputs.T.dot(d_hidden_layer) * lr\n",
        "\thidden_bias += np.sum(d_hidden_layer,axis=0,keepdims=True) * lr"
      ],
      "execution_count": 62,
      "outputs": []
    },
    {
      "cell_type": "code",
      "metadata": {
        "colab": {
          "base_uri": "https://localhost:8080/"
        },
        "id": "tGq3CYEgcKaj",
        "outputId": "3dd91aec-62b9-41ab-9f17-0ce83f6af542"
      },
      "source": [
        "#Display the hidden_weights, hidden_bias, output_weights and output_bias after training\n",
        "print(\"Final hidden weights: \",end='')\n",
        "print(*hidden_weights)\n",
        "print(\"Final hidden bias: \",end='')\n",
        "print(*hidden_bias)\n",
        "print(\"Final output weights: \",end='')\n",
        "print(*output_weights)\n",
        "print(\"Final output bias: \",end='')\n",
        "print(*output_bias)"
      ],
      "execution_count": 63,
      "outputs": [
        {
          "output_type": "stream",
          "text": [
            "Final hidden weights: [5.82588752 3.76266289] [5.82632423 3.76275364]\n",
            "Final hidden bias: [-2.44891972 -5.76645363]\n",
            "Final output weights: [7.60673472] [-8.26218439]\n",
            "Final output bias: [-3.42823994]\n"
          ],
          "name": "stdout"
        }
      ]
    },
    {
      "cell_type": "code",
      "metadata": {
        "colab": {
          "base_uri": "https://localhost:8080/"
        },
        "id": "k_rH8TpkcKaj",
        "outputId": "5fa3699e-0632-45f8-dc8f-ef652a301fd5"
      },
      "source": [
        "#Finally, display the predicted output\n",
        "print(\"\\nOutput from neural network after 10,000 epochs: \",end='')\n",
        "print(*predicted_output)"
      ],
      "execution_count": 64,
      "outputs": [
        {
          "output_type": "stream",
          "text": [
            "\n",
            "Output from neural network after 10,000 epochs: [0.05472951] [0.95005675] [0.95005544] [0.05363277]\n"
          ],
          "name": "stdout"
        }
      ]
    }
  ]
}