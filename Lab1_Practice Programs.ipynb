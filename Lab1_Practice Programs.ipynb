{
  "nbformat": 4,
  "nbformat_minor": 0,
  "metadata": {
    "colab": {
      "name": "AI-21/12.ipynb",
      "provenance": []
    },
    "kernelspec": {
      "name": "python3",
      "display_name": "Python 3"
    }
  },
  "cells": [
    {
      "cell_type": "markdown",
      "metadata": {
        "id": "QvbFOx8qNoHW"
      },
      "source": [
        "# Using Operators"
      ]
    },
    {
      "cell_type": "code",
      "metadata": {
        "colab": {
          "base_uri": "https://localhost:8080/"
        },
        "id": "oTi-zRHx7KZq",
        "outputId": "69af5d8a-7c61-4bf4-f9b5-ff383302e95a"
      },
      "source": [
        "# Check for voting age\r\n",
        "age = int(input(\"Enter age: \"))   # Assignment Operator\r\n",
        "if age<18:                        # Comparison Operator   \r\n",
        "  print(\"Can't Vote\")\r\n",
        "else:\r\n",
        "  print(\"Can Vote\")  "
      ],
      "execution_count": 10,
      "outputs": [
        {
          "output_type": "stream",
          "text": [
            "Enter age: 32\n",
            "Can Vote\n"
          ],
          "name": "stdout"
        }
      ]
    },
    {
      "cell_type": "markdown",
      "metadata": {
        "id": "L8FZpyGtN1Y5"
      },
      "source": [
        "# Working with Lists"
      ]
    },
    {
      "cell_type": "code",
      "metadata": {
        "colab": {
          "base_uri": "https://localhost:8080/"
        },
        "id": "GC7BQlGR8xMi",
        "outputId": "93c5ac80-03f8-46f1-a4fe-3843889e5122"
      },
      "source": [
        "a = [1,2,3,4]\r\n",
        "print(\"Sum:\",sum(a))      # printing sum of all elements\r\n",
        "print(\"Max:\",max(a))      # printing max value\r\n",
        "print(\"Min:\",min(a))      # printing min value\r\n",
        "p=1\r\n",
        "for i in a:\r\n",
        "  p = p*i\r\n",
        "print(\"Product:\",p)       # printing product of all elements"
      ],
      "execution_count": 25,
      "outputs": [
        {
          "output_type": "stream",
          "text": [
            "Sum: 10\n",
            "Max: 4\n",
            "Min: 1\n",
            "Product: 24\n"
          ],
          "name": "stdout"
        }
      ]
    },
    {
      "cell_type": "markdown",
      "metadata": {
        "id": "LGfdlMWdN713"
      },
      "source": [
        "# Working with Tuples"
      ]
    },
    {
      "cell_type": "code",
      "metadata": {
        "colab": {
          "base_uri": "https://localhost:8080/"
        },
        "id": "h7rioJ-v-hz8",
        "outputId": "19b34c98-5852-416c-86d5-f944c69e43ae"
      },
      "source": [
        "# Creating a tuple with different data types\r\n",
        "t = tuple((input(\"Enter elements: \").split()))\r\n",
        "t"
      ],
      "execution_count": 42,
      "outputs": [
        {
          "output_type": "stream",
          "text": [
            "Enter elements: A 30 4.5 cat\n"
          ],
          "name": "stdout"
        },
        {
          "output_type": "execute_result",
          "data": {
            "text/plain": [
              "('A', '30', '4.5', 'cat')"
            ]
          },
          "metadata": {
            "tags": []
          },
          "execution_count": 42
        }
      ]
    },
    {
      "cell_type": "code",
      "metadata": {
        "colab": {
          "base_uri": "https://localhost:8080/"
        },
        "id": "EEgNd0xgA3NV",
        "outputId": "86dafcc5-82d2-4bf0-c140-d7c48405174d"
      },
      "source": [
        "# Printing a value from a tuple with numbers\r\n",
        "t = (1,2,3,4)\r\n",
        "t[-2]"
      ],
      "execution_count": 43,
      "outputs": [
        {
          "output_type": "execute_result",
          "data": {
            "text/plain": [
              "3"
            ]
          },
          "metadata": {
            "tags": []
          },
          "execution_count": 43
        }
      ]
    },
    {
      "cell_type": "code",
      "metadata": {
        "colab": {
          "base_uri": "https://localhost:8080/"
        },
        "id": "OrqrF2W2BYXW",
        "outputId": "54f5c42c-04ea-4f8a-8807-ad177ce58a18"
      },
      "source": [
        "# Adding items into tuple\r\n",
        "t1 = (5,6)\r\n",
        "t+t1"
      ],
      "execution_count": 40,
      "outputs": [
        {
          "output_type": "execute_result",
          "data": {
            "text/plain": [
              "(1, 2, 3, 4, 5, 6)"
            ]
          },
          "metadata": {
            "tags": []
          },
          "execution_count": 40
        }
      ]
    },
    {
      "cell_type": "code",
      "metadata": {
        "colab": {
          "base_uri": "https://localhost:8080/",
          "height": 35
        },
        "id": "KYMCp4oOBroh",
        "outputId": "ce275242-e8ae-4cc7-934c-70a8789f6845"
      },
      "source": [
        "# Tuple to string\r\n",
        "s = ''\r\n",
        "t = ('M','a','n','a','s','i')\r\n",
        "for i in t:\r\n",
        "  s = s+i\r\n",
        "s  "
      ],
      "execution_count": 41,
      "outputs": [
        {
          "output_type": "execute_result",
          "data": {
            "application/vnd.google.colaboratory.intrinsic+json": {
              "type": "string"
            },
            "text/plain": [
              "'Manasi'"
            ]
          },
          "metadata": {
            "tags": []
          },
          "execution_count": 41
        }
      ]
    },
    {
      "cell_type": "markdown",
      "metadata": {
        "id": "J1pCWUB8N_3C"
      },
      "source": [
        "# Working with Sets"
      ]
    },
    {
      "cell_type": "code",
      "metadata": {
        "colab": {
          "base_uri": "https://localhost:8080/"
        },
        "id": "LIv1aII0DB-2",
        "outputId": "4e156f9c-03b5-458a-ef85-282c2f2b9a72"
      },
      "source": [
        "# Creating a set\r\n",
        "s = set((input(\"Enter elements: \").split()))\r\n",
        "s"
      ],
      "execution_count": 53,
      "outputs": [
        {
          "output_type": "stream",
          "text": [
            "Enter elements: a cat 3 4.6\n"
          ],
          "name": "stdout"
        },
        {
          "output_type": "execute_result",
          "data": {
            "text/plain": [
              "{'3', '4.6', 'a', 'cat'}"
            ]
          },
          "metadata": {
            "tags": []
          },
          "execution_count": 53
        }
      ]
    },
    {
      "cell_type": "code",
      "metadata": {
        "colab": {
          "base_uri": "https://localhost:8080/"
        },
        "id": "4RiB6rDhEis7",
        "outputId": "424a11d4-1899-43af-8fe0-51ba92a74e98"
      },
      "source": [
        "# Adding element in a set\r\n",
        "s.add(5)\r\n",
        "s"
      ],
      "execution_count": 54,
      "outputs": [
        {
          "output_type": "execute_result",
          "data": {
            "text/plain": [
              "{'3', '4.6', 5, 'a', 'cat'}"
            ]
          },
          "metadata": {
            "tags": []
          },
          "execution_count": 54
        }
      ]
    },
    {
      "cell_type": "code",
      "metadata": {
        "colab": {
          "base_uri": "https://localhost:8080/"
        },
        "id": "bJSdu3oGErpG",
        "outputId": "598b32e8-6eb0-40d2-ebd9-6d2a1c6252e8"
      },
      "source": [
        "# Removing element from a set\r\n",
        "s.remove(5)\r\n",
        "s"
      ],
      "execution_count": 55,
      "outputs": [
        {
          "output_type": "execute_result",
          "data": {
            "text/plain": [
              "{'3', '4.6', 'a', 'cat'}"
            ]
          },
          "metadata": {
            "tags": []
          },
          "execution_count": 55
        }
      ]
    },
    {
      "cell_type": "code",
      "metadata": {
        "colab": {
          "base_uri": "https://localhost:8080/"
        },
        "id": "2A6VnDq1FAG6",
        "outputId": "a0f5581f-ab15-49cb-eb63-39d95f66a103"
      },
      "source": [
        "# Removing element(if present) from a set\r\n",
        "p = '3'\r\n",
        "if p in s:\r\n",
        "  s.remove(p)\r\n",
        "s"
      ],
      "execution_count": 57,
      "outputs": [
        {
          "output_type": "execute_result",
          "data": {
            "text/plain": [
              "{'4.6', 'a', 'cat'}"
            ]
          },
          "metadata": {
            "tags": []
          },
          "execution_count": 57
        }
      ]
    },
    {
      "cell_type": "markdown",
      "metadata": {
        "id": "dh8S0NAHOEf9"
      },
      "source": [
        "# Working with Dictionaries"
      ]
    },
    {
      "cell_type": "code",
      "metadata": {
        "colab": {
          "base_uri": "https://localhost:8080/"
        },
        "id": "hyPbscRUFNPn",
        "outputId": "f2524cc6-cb27-428b-cd61-d87919350ef1"
      },
      "source": [
        "# Add key into dict\r\n",
        "d = {1:'A',2:'B'}\r\n",
        "d[3] = 'C'\r\n",
        "d"
      ],
      "execution_count": 60,
      "outputs": [
        {
          "output_type": "execute_result",
          "data": {
            "text/plain": [
              "{1: 'A', 2: 'B', 3: 'C'}"
            ]
          },
          "metadata": {
            "tags": []
          },
          "execution_count": 60
        }
      ]
    },
    {
      "cell_type": "code",
      "metadata": {
        "colab": {
          "base_uri": "https://localhost:8080/"
        },
        "id": "rIfwhKrSIAPk",
        "outputId": "86180c0a-6df8-4d45-e7af-4d190ca2a50d"
      },
      "source": [
        "# Concatinating and creating a new one\r\n",
        "d1 = {4:'D'}\r\n",
        "D = {}\r\n",
        "for i in (d,d1):\r\n",
        "  D.update(i)\r\n",
        "D"
      ],
      "execution_count": 70,
      "outputs": [
        {
          "output_type": "execute_result",
          "data": {
            "text/plain": [
              "{1: 'A', 2: 'B', 3: 'C', 4: 'D'}"
            ]
          },
          "metadata": {
            "tags": []
          },
          "execution_count": 70
        }
      ]
    },
    {
      "cell_type": "code",
      "metadata": {
        "colab": {
          "base_uri": "https://localhost:8080/"
        },
        "id": "P2kZmnQTISB7",
        "outputId": "7d14ffdb-f84e-4fd9-9b2b-5abcf0a99da6"
      },
      "source": [
        "# Checking for a key in dict\r\n",
        "key = int(input(\"Enter key to check if present: \"))\r\n",
        "key in d"
      ],
      "execution_count": 68,
      "outputs": [
        {
          "output_type": "stream",
          "text": [
            "Enter key to check if present: 3\n"
          ],
          "name": "stdout"
        },
        {
          "output_type": "execute_result",
          "data": {
            "text/plain": [
              "True"
            ]
          },
          "metadata": {
            "tags": []
          },
          "execution_count": 68
        }
      ]
    },
    {
      "cell_type": "markdown",
      "metadata": {
        "id": "jW1hEfe7OJps"
      },
      "source": [
        "# Classes"
      ]
    },
    {
      "cell_type": "code",
      "metadata": {
        "colab": {
          "base_uri": "https://localhost:8080/"
        },
        "id": "_73HXUSfJEB3",
        "outputId": "95121ef1-5a40-4e59-c8e3-b530d07eb83d"
      },
      "source": [
        "# Using classes\r\n",
        "class bank:\r\n",
        "  exmoney=1000                                            # class variable\r\n",
        "  def withdraw(self,wd):\r\n",
        "    self.wd=wd                                            # object variable\r\n",
        "    self.exmoney=self.exmoney-self.wd  \r\n",
        "    print(\"Amount left:\",self.exmoney)\r\n",
        "  def deposit(self,deposit):\r\n",
        "    self.d=deposit\r\n",
        "    self.exmoney=self.exmoney+self.d\r\n",
        "    print(\"Amount now:\",self.exmoney)\r\n",
        "print(\"Existing amount: 1000\")\r\n",
        "ch=int(input(\"Choose:\\n1.Deposit\\n2.Withdraw\\n\"))\r\n",
        "o=bank()                                                  # class object\r\n",
        "if ch==1:\r\n",
        "  dep=int(input(\"Enter amount for deposit: \"))\r\n",
        "  o.deposit(dep)\r\n",
        "elif ch==2:\r\n",
        "  wid=int(input(\"Enter amount for withdrawl: \"))\r\n",
        "  if wid>1000:\r\n",
        "    print(\"Insufficient Balance\")\r\n",
        "  else:  \r\n",
        "    o.withdraw(wid)"
      ],
      "execution_count": 71,
      "outputs": [
        {
          "output_type": "stream",
          "text": [
            "Existing amount: 1000\n",
            "Choose:\n",
            "1.Deposit\n",
            "2.Withdraw\n",
            "2\n",
            "Enter amount for withdrawl: 50\n",
            "Amount left: 950\n"
          ],
          "name": "stdout"
        }
      ]
    }
  ]
}