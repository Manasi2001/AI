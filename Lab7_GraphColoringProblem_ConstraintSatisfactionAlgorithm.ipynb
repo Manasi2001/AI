{
  "nbformat": 4,
  "nbformat_minor": 0,
  "metadata": {
    "kernelspec": {
      "display_name": "Python 3",
      "language": "python",
      "name": "python3"
    },
    "language_info": {
      "codemirror_mode": {
        "name": "ipython",
        "version": 3
      },
      "file_extension": ".py",
      "mimetype": "text/x-python",
      "name": "python",
      "nbconvert_exporter": "python",
      "pygments_lexer": "ipython3",
      "version": "3.7.1"
    },
    "colab": {
      "name": "Lab7_GraphColoringProblem_ConstraintSatisfactionAlgorithm.ipynb",
      "provenance": [],
      "collapsed_sections": []
    }
  },
  "cells": [
    {
      "cell_type": "markdown",
      "metadata": {
        "id": "3aJI8CaXN7KW"
      },
      "source": [
        "<h1>Lab 7: Constraint Satisfaction Problems</h1>\n",
        "\n",
        "In this lab assignment, we are solving the map coloring problem and crypto-arithmetic problem using constraint satisfaction problem."
      ]
    },
    {
      "cell_type": "code",
      "metadata": {
        "id": "LdQ-JdjpN7KY"
      },
      "source": [
        "#Import the necessary libraries\n",
        "from typing import Generic, TypeVar, Dict, List, Optional\n",
        "from abc import ABC, abstractmethod"
      ],
      "execution_count": null,
      "outputs": []
    },
    {
      "cell_type": "code",
      "metadata": {
        "id": "mLg8MGIRN7KZ"
      },
      "source": [
        "#Declares a type variable V as variable type and D as domain type\n",
        "V = TypeVar('V') # variable type\n",
        "D = TypeVar('D') # domain type"
      ],
      "execution_count": null,
      "outputs": []
    },
    {
      "cell_type": "code",
      "metadata": {
        "id": "zIFauP5YN7KZ"
      },
      "source": [
        "#This is a Base class for all constraints\n",
        "class Constraint(Generic[V, D], ABC):\n",
        "    # The variables that the constraint is between\n",
        "    def __init__(self, variables: List[V]) -> None:\n",
        "        self.variables = variables\n",
        "\n",
        "    # This is an abstract method which must be overridden by subclasses\n",
        "    @abstractmethod\n",
        "    def satisfied(self, assignment: Dict[V, D]) -> bool:\n",
        "        ..."
      ],
      "execution_count": null,
      "outputs": []
    },
    {
      "cell_type": "code",
      "metadata": {
        "id": "18_i-nKiN7KZ"
      },
      "source": [
        "# A constraint satisfaction problem consists of variables of type V\n",
        "# that have ranges of values known as domains of type D and constraints\n",
        "# that determine whether a particular variable's domain selection is valid\n",
        "class CSP(Generic[V, D]):\n",
        "    def __init__(self, variables: List[V], domains: Dict[V, List[D]]) -> None:\n",
        "        # variables to be constrained\n",
        "        #TODO: Assign variables parameter to self.variables\n",
        "        self.variables: List[V] = variables \n",
        "        # domain of each variable\n",
        "        #TODO: Assign domains parameter to self.domains\n",
        "        self.domains: Dict[V, List[D]] = domains\n",
        "        #TODO: Assign an empty dictionary to self.constraints\n",
        "        self.constraints: Dict[V, List[Constraint[V, D]]] = {}\n",
        "        #TODO:Iterate over self.variables\n",
        "        for variable in self.variables:\n",
        "            self.constraints[variable] = []\n",
        "            #TODO:If the variable is not in domains, then raise a LookupError(\"Every variable should have a domain assigned to it.\")\n",
        "            if variable not in self.domains:\n",
        "                raise LookupError(\"Every variable should have a domain assigned to it.\")\n",
        "    #This method add constraint to variables as per their domains \n",
        "    def add_constraint(self, constraint: Constraint[V, D]) -> None:\n",
        "        for variable in constraint.variables:\n",
        "            if variable not in self.variables:\n",
        "                raise LookupError(\"Variable in constraint not in CSP\")\n",
        "            else:\n",
        "                self.constraints[variable].append(constraint)\n",
        "\n",
        "    # Check if the value assignment is consistent by checking all constraints\n",
        "    # for the given variable against it\n",
        "    def consistent(self, variable: V, assignment: Dict[V, D]) -> bool:\n",
        "        #TODO: Iterate over self.constraints[variable]\n",
        "        for constraint in self.constraints[variable]:\n",
        "            #TODO: if constraint not satisfied then return False\n",
        "            if not constraint.satisfied(assignment):\n",
        "                return False\n",
        "        #TODO: otherwise return True\n",
        "        return True\n",
        "    \n",
        "    #This method is performing the backtracking search to find the result\n",
        "    def backtracking_search(self, assignment: Dict[V, D] = {}) -> Optional[Dict[V, D]]:\n",
        "        # assignment is complete if every variable is assigned (our base case)\n",
        "        if len(assignment) == len(self.variables):\n",
        "            return assignment\n",
        "\n",
        "        # get all variables in the CSP but not in the assignment\n",
        "        unassigned: List[V] = [v for v in self.variables if v not in assignment]\n",
        "\n",
        "        # get the every possible domain value of the first unassigned variable\n",
        "        first: V = unassigned[0]\n",
        "        #TODO: Iterate over self.domains[first]\n",
        "        for value in self.domains[first]:\n",
        "            local_assignment = assignment.copy()\n",
        "            #TODO: Assign the value\n",
        "            local_assignment[first] = value\n",
        "            # if we're still consistent, we recurse (continue)\n",
        "            if self.consistent(first, local_assignment):\n",
        "                #TODO: recursively call the self.backtracking_search method based on the local_assignment\n",
        "                result: Optional[Dict[V, D]] = self.backtracking_search(local_assignment)\n",
        "                # if we didn't find the result, we will end up backtracking\n",
        "                if result is not None:\n",
        "                    return result\n",
        "        return None"
      ],
      "execution_count": null,
      "outputs": []
    },
    {
      "cell_type": "code",
      "metadata": {
        "id": "CIWlDJx9N7Ka"
      },
      "source": [
        "#MapColoringConstraint is a subclass of Constraint class \n",
        "class MapColoringConstraint(Constraint[str, str]):\n",
        "    def __init__(self, place1: str, place2: str) -> None:\n",
        "        super().__init__([place1, place2])\n",
        "        self.place1: str = place1\n",
        "        self.place2: str = place2\n",
        "    #Define the abstract method satisfied in subclass\n",
        "    def satisfied(self, assignment: Dict[str, str]) -> bool:\n",
        "        # If either place is not in the assignment then it is not\n",
        "        # yet possible for their colors to be conflicting\n",
        "        if self.place1 not in assignment or self.place2 not in assignment:\n",
        "            return True\n",
        "        # check the color assigned to place1 is not the same as the\n",
        "        # color assigned to place2\n",
        "        return assignment[self.place1] != assignment[self.place2]\n"
      ],
      "execution_count": null,
      "outputs": []
    },
    {
      "cell_type": "code",
      "metadata": {
        "colab": {
          "base_uri": "https://localhost:8080/"
        },
        "id": "74eDBkznN7Ka",
        "outputId": "64546c95-834f-4981-c5b9-8b2d4c82f9ef"
      },
      "source": [
        "#Main starts\n",
        "if __name__ == \"__main__\":\n",
        "    #Initializes the variables as per the regions of the graph\n",
        "    variables: List[str] = [\"BOX_1\", \"BOX_2\", \"BOX_4\",\n",
        "                            \"BOX_3\", \"BOX_5\", \"BOX_6\", \"BOX_7\"]\n",
        "    #TODO: Initialize the domain as empty dictionary \n",
        "    domains: Dict[str, List[str]] = {}\n",
        "    for variable in variables:\n",
        "        #Initialize the domain of each variable\n",
        "        domains[variable] = [\"red\", \"green\", \"blue\"]\n",
        "    #Instantiate the object of CSP\n",
        "    csp: CSP[str, str] = CSP(variables, domains)\n",
        "    #Add constraints to the given MAP problem\n",
        "    csp.add_constraint(MapColoringConstraint(\"BOX_1\", \"BOX_2\"))\n",
        "    csp.add_constraint(MapColoringConstraint(\"BOX_1\", \"BOX_4\"))\n",
        "    csp.add_constraint(MapColoringConstraint(\"BOX_4\", \"BOX_2\"))\n",
        "    csp.add_constraint(MapColoringConstraint(\"BOX_3\", \"BOX_2\"))\n",
        "    csp.add_constraint(MapColoringConstraint(\"BOX_3\", \"BOX_4\"))\n",
        "    csp.add_constraint(MapColoringConstraint(\"BOX_3\", \"BOX_5\"))\n",
        "    csp.add_constraint(MapColoringConstraint(\"BOX_5\", \"BOX_4\"))\n",
        "    csp.add_constraint(MapColoringConstraint(\"BOX_6\", \"BOX_4\"))\n",
        "    csp.add_constraint(MapColoringConstraint(\"BOX_6\", \"BOX_5\"))\n",
        "    csp.add_constraint(MapColoringConstraint(\"BOX_6\", \"BOX_7\"))\n",
        "    #Finding the solution to the problem by calling the backtracking_search() method\n",
        "    solution: Optional[Dict[str, str]] = csp.backtracking_search()\n",
        "    if solution is None:\n",
        "        print(\"No solution found!\")\n",
        "    else:\n",
        "        print(solution)"
      ],
      "execution_count": null,
      "outputs": [
        {
          "output_type": "stream",
          "text": [
            "{'BOX_1': 'red', 'BOX_2': 'green', 'BOX_4': 'blue', 'BOX_3': 'red', 'BOX_5': 'green', 'BOX_6': 'red', 'BOX_7': 'green'}\n"
          ],
          "name": "stdout"
        }
      ]
    },
    {
      "cell_type": "code",
      "metadata": {
        "id": "GtBq2nGsN7Kb"
      },
      "source": [
        "#SendMoreMoneyConstraint is a subclass of Constraint class\n",
        "class SendMoreMoneyConstraint(Constraint[str, int]):\n",
        "    def __init__(self, letters: List[str]) -> None:\n",
        "        super().__init__(letters)\n",
        "        self.letters: List[str] = letters\n",
        "\n",
        "    def satisfied(self, assignment: Dict[str, int]) -> bool:\n",
        "        # if there are duplicate values then it's not a solution\n",
        "        if len(set(assignment.values())) < len(assignment):\n",
        "            return False\n",
        "\n",
        "        # if all variables have been assigned, check if it adds correctly\n",
        "        if len(assignment) == len(self.letters):\n",
        "            s: int = assignment[\"S\"]\n",
        "            e: int = assignment[\"E\"]\n",
        "            n: int = assignment[\"N\"]\n",
        "            d: int = assignment[\"D\"]\n",
        "            m: int = assignment[\"M\"]\n",
        "            o: int = assignment[\"O\"]\n",
        "            r: int = assignment[\"R\"]\n",
        "            y: int = assignment[\"Y\"]\n",
        "            send: int = s * 1000 + e * 100 + n * 10 + d\n",
        "            more: int = m * 1000 + o * 100 + r * 10 + e\n",
        "            money: int = m * 10000 + o * 1000 + n * 100 + e * 10 + y\n",
        "            return send + more == money\n",
        "        return True # no conflict"
      ],
      "execution_count": null,
      "outputs": []
    },
    {
      "cell_type": "code",
      "metadata": {
        "colab": {
          "base_uri": "https://localhost:8080/"
        },
        "id": "GZ3apZE2N7Kb",
        "outputId": "cd701d68-1c0e-457b-e8c2-8879feaa5ce2"
      },
      "source": [
        "if __name__ == \"__main__\":\n",
        "    letters: List[str] = [\"S\", \"E\", \"N\", \"D\", \"M\", \"O\", \"R\", \"Y\"]\n",
        "    possible_digits: Dict[str, List[int]] = {}\n",
        "    for letter in letters:\n",
        "        possible_digits[letter] = [0, 1, 2, 3, 4, 5, 6, 7, 8, 9]\n",
        "    possible_digits[\"M\"] = [1]  # so we don't get answers starting with a 0\n",
        "    csp: CSP[str, int] = CSP(letters, possible_digits)\n",
        "    csp.add_constraint(SendMoreMoneyConstraint(letters))\n",
        "    solution: Optional[Dict[str, int]] = csp.backtracking_search()\n",
        "    if solution is None:\n",
        "        print(\"No solution found!\")\n",
        "    else:\n",
        "        print(solution)"
      ],
      "execution_count": null,
      "outputs": [
        {
          "output_type": "stream",
          "text": [
            "{'S': 9, 'E': 5, 'N': 6, 'D': 7, 'M': 1, 'O': 0, 'R': 8, 'Y': 2}\n"
          ],
          "name": "stdout"
        }
      ]
    },
    {
      "cell_type": "markdown",
      "metadata": {
        "id": "9nwcGGV4N7Kb"
      },
      "source": [
        "**BONUS QUESTIONS**: \n",
        "1. Build your own map and set the constraint as shown in above example\n",
        "2. Solve the following crypto-arithmetic problem: CROSS + ROADS = DANGER using constraint satisfaction"
      ]
    },
    {
      "cell_type": "markdown",
      "metadata": {
        "id": "Qp98kpOmTJFv"
      },
      "source": [
        "### Bonus-1"
      ]
    },
    {
      "cell_type": "code",
      "metadata": {
        "colab": {
          "base_uri": "https://localhost:8080/"
        },
        "id": "KvWt5xVdTH1c",
        "outputId": "f390358a-48b9-4550-f12e-abd6b67b96c7"
      },
      "source": [
        "#Main starts\r\n",
        "if __name__ == \"__main__\":\r\n",
        "    #Initializes the variables as per the regions of the graph\r\n",
        "    variables: List[str] = [\"BOX_1\", \"BOX_2\", \"BOX_4\",\r\n",
        "                            \"BOX_3\", \"BOX_5\"]\r\n",
        "    #TODO: Initialize the domain as empty dictionary \r\n",
        "    domains: Dict[str, List[str]] = {}\r\n",
        "    for variable in variables:\r\n",
        "        #Initialize the domain of each variable\r\n",
        "        domains[variable] = [\"green\", \"yellow\"]\r\n",
        "    #Instantiate the object of CSP\r\n",
        "    csp: CSP[str, str] = CSP(variables, domains)\r\n",
        "    #Add constraints to the given MAP problem\r\n",
        "    csp.add_constraint(MapColoringConstraint(\"BOX_1\", \"BOX_4\"))\r\n",
        "    csp.add_constraint(MapColoringConstraint(\"BOX_4\", \"BOX_2\"))\r\n",
        "    csp.add_constraint(MapColoringConstraint(\"BOX_3\", \"BOX_2\"))\r\n",
        "    csp.add_constraint(MapColoringConstraint(\"BOX_3\", \"BOX_4\"))\r\n",
        "    #Finding the solution to the problem by calling the backtracking_search() method\r\n",
        "    solution: Optional[Dict[str, str]] = csp.backtracking_search()\r\n",
        "    if solution is None:\r\n",
        "        print(\"No solution found!\")\r\n",
        "    else:\r\n",
        "        print(solution)"
      ],
      "execution_count": null,
      "outputs": [
        {
          "output_type": "stream",
          "text": [
            "No solution found!\n"
          ],
          "name": "stdout"
        }
      ]
    },
    {
      "cell_type": "code",
      "metadata": {
        "colab": {
          "base_uri": "https://localhost:8080/"
        },
        "id": "soqixiskTzXe",
        "outputId": "eeff708a-ec4c-48a8-b298-0f04fea3eb75"
      },
      "source": [
        "#Main starts\r\n",
        "if __name__ == \"__main__\":\r\n",
        "    #Initializes the variables as per the regions of the graph\r\n",
        "    variables: List[str] = [\"BOX_1\", \"BOX_2\", \"BOX_4\",\r\n",
        "                            \"BOX_3\", \"BOX_5\"]\r\n",
        "    #TODO: Initialize the domain as empty dictionary \r\n",
        "    domains: Dict[str, List[str]] = {}\r\n",
        "    for variable in variables:\r\n",
        "        #Initialize the domain of each variable\r\n",
        "        domains[variable] = [\"green\", \"yellow\", \"pink\"]\r\n",
        "    #Instantiate the object of CSP\r\n",
        "    csp: CSP[str, str] = CSP(variables, domains)\r\n",
        "    #Add constraints to the given MAP problem\r\n",
        "    csp.add_constraint(MapColoringConstraint(\"BOX_1\", \"BOX_4\"))\r\n",
        "    csp.add_constraint(MapColoringConstraint(\"BOX_4\", \"BOX_2\"))\r\n",
        "    csp.add_constraint(MapColoringConstraint(\"BOX_3\", \"BOX_2\"))\r\n",
        "    csp.add_constraint(MapColoringConstraint(\"BOX_3\", \"BOX_4\"))\r\n",
        "    #Finding the solution to the problem by calling the backtracking_search() method\r\n",
        "    solution: Optional[Dict[str, str]] = csp.backtracking_search()\r\n",
        "    if solution is None:\r\n",
        "        print(\"No solution found!\")\r\n",
        "    else:\r\n",
        "        print(solution)"
      ],
      "execution_count": null,
      "outputs": [
        {
          "output_type": "stream",
          "text": [
            "{'BOX_1': 'green', 'BOX_2': 'green', 'BOX_4': 'yellow', 'BOX_3': 'pink', 'BOX_5': 'green'}\n"
          ],
          "name": "stdout"
        }
      ]
    },
    {
      "cell_type": "markdown",
      "metadata": {
        "id": "fYvu2tSfUxQa"
      },
      "source": [
        "### Bonus-2"
      ]
    },
    {
      "cell_type": "code",
      "metadata": {
        "id": "Nrr3RZOKUvAx"
      },
      "source": [
        "#CrossRoadsConstraint is a subclass of Constraint class\r\n",
        "class CrossRoadsConstraint(Constraint[str, int]):\r\n",
        "    def __init__(self, letters: List[str]) -> None:\r\n",
        "        super().__init__(letters)\r\n",
        "        self.letters: List[str] = letters\r\n",
        "\r\n",
        "    def satisfied(self, assignment: Dict[str, int]) -> bool:\r\n",
        "        # if there are duplicate values then it's not a solution\r\n",
        "        if len(set(assignment.values())) < len(assignment):\r\n",
        "            return False\r\n",
        "\r\n",
        "        # if all variables have been assigned, check if it adds correctly\r\n",
        "        if len(assignment) == len(self.letters):\r\n",
        "            c: int = assignment[\"C\"]\r\n",
        "            r: int = assignment[\"R\"]\r\n",
        "            o: int = assignment[\"O\"]\r\n",
        "            s: int = assignment[\"S\"]\r\n",
        "            a: int = assignment[\"A\"]\r\n",
        "            d: int = assignment[\"D\"]\r\n",
        "            n: int = assignment[\"N\"]\r\n",
        "            g: int = assignment[\"G\"]\r\n",
        "            e: int = assignment[\"E\"]\r\n",
        "            cross: int = c * 10000 + r * 1000 + o * 100 + s * 10 + s\r\n",
        "            roads: int = r * 10000 + o * 1000 + a * 100 + d * 10 + s\r\n",
        "            danger: int = d * 100000 + a * 10000 + n * 1000 + g * 100 + e * 10 + r\r\n",
        "            return cross + roads == danger\r\n",
        "        return True # no conflict"
      ],
      "execution_count": null,
      "outputs": []
    },
    {
      "cell_type": "code",
      "metadata": {
        "colab": {
          "base_uri": "https://localhost:8080/"
        },
        "id": "nxvtfPCvivV6",
        "outputId": "cc146d2f-bea4-47fd-9e08-93aaa455d4d7"
      },
      "source": [
        "if __name__ == \"__main__\":\r\n",
        "    letters: List[str] = [\"C\", \"R\", \"O\", \"S\", \"A\", \"D\", \"N\", \"G\", \"E\"]\r\n",
        "    possible_digits: Dict[str, List[int]] = {}\r\n",
        "    for letter in letters:\r\n",
        "        possible_digits[letter] = [0, 1, 2, 3, 4, 5, 6, 7, 8, 9]\r\n",
        "    possible_digits[\"D\"] = [1]  # so we don't get answers starting with a 0\r\n",
        "    csp: CSP[str, int] = CSP(letters, possible_digits)\r\n",
        "    csp.add_constraint(CrossRoadsConstraint(letters))\r\n",
        "    solution: Optional[Dict[str, int]] = csp.backtracking_search()\r\n",
        "    if solution is None:\r\n",
        "        print(\"No solution found!\")\r\n",
        "    else:\r\n",
        "        print(solution)"
      ],
      "execution_count": null,
      "outputs": [
        {
          "output_type": "stream",
          "text": [
            "{'C': 9, 'R': 6, 'O': 2, 'S': 3, 'A': 5, 'D': 1, 'N': 8, 'G': 7, 'E': 4}\n"
          ],
          "name": "stdout"
        }
      ]
    }
  ]
}