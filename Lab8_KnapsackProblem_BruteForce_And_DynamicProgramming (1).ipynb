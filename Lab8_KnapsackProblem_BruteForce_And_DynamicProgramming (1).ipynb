{
  "nbformat": 4,
  "nbformat_minor": 0,
  "metadata": {
    "kernelspec": {
      "display_name": "Python 3",
      "language": "python",
      "name": "python3"
    },
    "language_info": {
      "codemirror_mode": {
        "name": "ipython",
        "version": 3
      },
      "file_extension": ".py",
      "mimetype": "text/x-python",
      "name": "python",
      "nbconvert_exporter": "python",
      "pygments_lexer": "ipython3",
      "version": "3.7.1"
    },
    "colab": {
      "name": "Lab8_KnapsackProblem_BruteForce_And_DynamicProgramming.ipynb",
      "provenance": []
    }
  },
  "cells": [
    {
      "cell_type": "markdown",
      "metadata": {
        "id": "Hzzhq6JUcin_"
      },
      "source": [
        "<h1>Lab8: Implement a Knapsack problem using Brute Force Method and Dynamic Programming</h1>"
      ]
    },
    {
      "cell_type": "markdown",
      "metadata": {
        "id": "dV2R4hOAcioD"
      },
      "source": [
        "The knapsack problem is an optimization problem that takes a common computational need—finding the best use of limited  resources given a finite set of usage options—and spins it into a fun story. A thief enters a shop with the intent to steal.\n",
        "He has a knapsack, and he is limited in what he can steal by the capacity of the knapsack. How does he figure out what to put into the knapsack?"
      ]
    },
    {
      "cell_type": "markdown",
      "metadata": {
        "id": "94qHiTkGcioD"
      },
      "source": [
        "If we tried to solve this problem using a brute-force approach, we would look at every combination of items available to be put in the knapsack. For the mathematically inclined, this is known as a powerset, and a powerset of a set (in our case, the set of items) has $2^{N}$ different possible subsets, where $N$ is the number of items. Therefore, we would need to analyze $2^{N}$ combinations $(O(2^{N}))$. This is okay for a small number of items, but it is untenable for a large number. Any approach that solves a problem\n",
        "using an exponential number of steps is an approach we want to avoid. "
      ]
    },
    {
      "cell_type": "code",
      "metadata": {
        "id": "7Z-IyXMtcioD"
      },
      "source": [
        "from itertools import product\n",
        "from collections import namedtuple\n",
        "try:\n",
        "    from itertools import izip\n",
        "except ImportError:\n",
        "    izip = zip"
      ],
      "execution_count": 1,
      "outputs": []
    },
    {
      "cell_type": "code",
      "metadata": {
        "id": "W5AisFTXcioE"
      },
      "source": [
        "Reward = namedtuple('Reward', 'name value weight volume')\n",
        "\n",
        "bagpack =   Reward('bagpack',  0, 25.0, 0.25)\n",
        "\n",
        "items = [Reward('laptop', 3000,  0.3, 0.025),\n",
        "         Reward('printer',   1800,  0.2, 0.015),\n",
        "         Reward('headphone',    2500,  2.0, 0.002)]"
      ],
      "execution_count": 2,
      "outputs": []
    },
    {
      "cell_type": "code",
      "metadata": {
        "id": "fjFd0CFocioE"
      },
      "source": [
        "def tot_value(items_count):\n",
        "    \"\"\"\n",
        "    Given the count of each item in the sack return -1 if they can't be carried or their total value.\n",
        " \n",
        "    (also return the negative of the weight and the volume so taking the max of a series of return\n",
        "    values will minimise the weight if values tie, and minimise the volume if values and weights tie).\n",
        "    \"\"\"\n",
        "    global items, bagpack\n",
        "    weight = sum(n * item.weight for n, item in izip(items_count, items))\n",
        "    volume = sum(n * item.volume for n, item in izip(items_count, items))\n",
        "    if weight <= bagpack.weight and volume <= bagpack.volume:\n",
        "        return sum(n * item.value for n, item in izip(items_count, items)), -weight, -volume    \n",
        "    else:\n",
        "        return -1, 0, 0"
      ],
      "execution_count": 3,
      "outputs": []
    },
    {
      "cell_type": "code",
      "metadata": {
        "id": "f_q2b_3acioE"
      },
      "source": [
        "def knapsack():\n",
        "    global items, bagpack \n",
        "    # find max of any one item\n",
        "    max1 = [min(int(bagpack.weight // item.weight), int(bagpack.volume // item.volume)) for item in items]\n",
        " \n",
        "    # Try all combinations of reward items from 0 up to max1\n",
        "    return max(product(*[range(n + 1) for n in max1]), key=tot_value)"
      ],
      "execution_count": 4,
      "outputs": []
    },
    {
      "cell_type": "code",
      "metadata": {
        "colab": {
          "base_uri": "https://localhost:8080/"
        },
        "id": "xnvpv99NcioE",
        "outputId": "3a1411c1-8106-4324-afb5-9843b0a86182"
      },
      "source": [
        "max_items = knapsack()\n",
        "maxvalue, max_weight, max_volume = tot_value(max_items)\n",
        "max_weight = -max_weight\n",
        "max_volume = -max_volume\n",
        " \n",
        "print(\"The maximum value achievable (by exhaustive search) is %g.\" % maxvalue)\n",
        "item_names = \", \".join(item.name for item in items)\n",
        "print(\"  The number of %s items to achieve this is: %s, respectively.\" % (item_names, max_items))\n",
        "print(\"  The weight to carry is %.3g, and the volume used is %.3g.\" % (max_weight, max_volume))"
      ],
      "execution_count": 5,
      "outputs": [
        {
          "output_type": "stream",
          "text": [
            "The maximum value achievable (by exhaustive search) is 54500.\n",
            "  The number of laptop, printer, headphone items to achieve this is: (9, 0, 11), respectively.\n",
            "  The weight to carry is 24.7, and the volume used is 0.247.\n"
          ],
          "name": "stdout"
        }
      ]
    },
    {
      "cell_type": "markdown",
      "metadata": {
        "id": "RfYZyUtwcioF"
      },
      "source": [
        "<h3>Implement a Knapsack problem using Dynamic Programming. Compare the execution time of brute-force and dynamic programming algorithms</h3>"
      ]
    },
    {
      "cell_type": "markdown",
      "metadata": {
        "id": "MYR0TmNLcioF"
      },
      "source": [
        "Instead, use a technique known as dynamic programming, which is similar in concept to memoization. Instead of solving a problem outright with a brute-force approach, in dynamic programming one solves subproblems that make up the larger problem, stores those results, and utilizes those stored results to solve the larger problem. As long as the capacity of the knapsack is considered in discrete steps, the problem can be solved with dynamic programming."
      ]
    },
    {
      "cell_type": "code",
      "metadata": {
        "colab": {
          "base_uri": "https://localhost:8080/"
        },
        "id": "Qb8X-5zPcioG",
        "outputId": "63cd7b1e-2b1c-4b04-c1b4-027d70f021cd"
      },
      "source": [
        "def knapSack(W, wt, val, n):\r\n",
        "    K = [[0 for x in range(W + 1)] for x in range(n + 1)]\r\n",
        "\r\n",
        "    # Building table K[][] in bottom up manner\r\n",
        "    for i in range(n + 1):\r\n",
        "        for w in range(W + 1):\r\n",
        "            if i == 0 or w == 0:\r\n",
        "                K[i][w] = 0\r\n",
        "            elif wt[i-1] <= w:\r\n",
        "                K[i][w] = max(val[i-1] + K[i-1][w-wt[i-1]], K[i-1][w])\r\n",
        "            else:\r\n",
        "                K[i][w] = K[i-1][w]\r\n",
        " \r\n",
        "    return K[n][W]\r\n",
        "W = 25000\r\n",
        "wt = [300, 200, 2000]    \r\n",
        "val = [3000, 1800, 2500]\r\n",
        "n = len(val)\r\n",
        "print(\"The maximum value achievable (by dynamic programming) is %g.\" %knapSack(W, wt, val, n))"
      ],
      "execution_count": 15,
      "outputs": [
        {
          "output_type": "stream",
          "text": [
            "The maximum value achievable (by dynamic programming) is 7300.\n"
          ],
          "name": "stdout"
        }
      ]
    },
    {
      "cell_type": "markdown",
      "metadata": {
        "id": "QXjuxu3_sXrZ"
      },
      "source": [
        "### Execution time of brute force algorithm: 1.687s\r\n",
        "### Execution time of dynamic programming algorithm: 1.119s"
      ]
    }
  ]
}