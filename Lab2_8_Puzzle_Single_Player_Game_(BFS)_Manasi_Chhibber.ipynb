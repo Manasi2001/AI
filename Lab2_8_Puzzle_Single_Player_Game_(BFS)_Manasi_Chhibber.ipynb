{
  "nbformat": 4,
  "nbformat_minor": 0,
  "metadata": {
    "colab": {
      "name": "Lab2_8_Puzzle_Single_Player_Game_(BFS)_Manasi Chhibber.ipynb",
      "provenance": [],
      "collapsed_sections": []
    },
    "kernelspec": {
      "display_name": "Python 3",
      "language": "python",
      "name": "python3"
    },
    "language_info": {
      "codemirror_mode": {
        "name": "ipython",
        "version": 3
      },
      "file_extension": ".py",
      "mimetype": "text/x-python",
      "name": "python",
      "nbconvert_exporter": "python",
      "pygments_lexer": "ipython3",
      "version": "3.7.6"
    }
  },
  "cells": [
    {
      "cell_type": "markdown",
      "metadata": {
        "id": "h-47G4nF1lBG"
      },
      "source": [
        "<h1>8 Puzzle Single Player Game (Breadth First Search)</h1>"
      ]
    },
    {
      "cell_type": "markdown",
      "metadata": {
        "id": "BXCcK4Il4p78"
      },
      "source": [
        "<h2>Introduction</h2>\n",
        "An instance of the n-puzzle game consists of a board holding $n^{2}-1$ distinct movable tiles, plus an empty space. The tiles are numbers from the set $1,..,n^{2}-1$. For any such board, the empty space may be legally swapped with any tile horizontally or vertically adjacent to it. In this assignment, the blank space is going to be represented with the number 0. Given an initial state of the board, the combinatorial search problem is to find a sequence of moves that transitions this state to the goal state; that is, the configuration with all tiles arranged in ascending order  $0,1,..,n^{2}-1$ . \n",
        "\n",
        "The search space is the set of all possible states reachable from the initial state. The blank space may be swapped with a component in one of the four directions {‘Up’, ‘Down’, ‘Left’, ‘Right’}, one move at a time. \n",
        "\n"
      ]
    },
    {
      "cell_type": "markdown",
      "metadata": {
        "id": "wx3viZ8g1orV"
      },
      "source": [
        "In this 8 puzzle problem is discussed. \\\\\n",
        "Given a 3×3 board with 8 tiles (every tile has one number from 1 to 8) and one empty space. The objective is to place the numbers on tiles to match final configuration using the empty space. We can slide four adjacent (left, right, above and below) tiles into the empty space. \\\\\n",
        "For example: \\\\\n",
        "![alt text](https://media.geeksforgeeks.org/wp-content/uploads/puzzle8init.jpg)"
      ]
    },
    {
      "cell_type": "markdown",
      "metadata": {
        "id": "NlVyyuFI2IyW"
      },
      "source": [
        "**Breadth First Search (BFS):** We can perform a breadth-first search on state space (Set of all configurations of a given problem i.e. all states that can be reached from the initial state) tree. \\\\\n",
        "![alt text](https://media.geeksforgeeks.org/wp-content/uploads/puzzle-1.jpg) \n"
      ]
    },
    {
      "cell_type": "markdown",
      "metadata": {
        "id": "HTDnbYRR6FrN"
      },
      "source": [
        "<h2>Algorithm Review</h2>\n",
        "The searches begin by visiting the root node of the search tree, given by the initial state. Among other book-keeping details, three major things happen in sequence in order to visit a node:\n",
        "\n",
        "1.   First, we remove a node from the frontier set.\n",
        "2.   Second, we check the state against the goal state to determine if a solution has been found.\n",
        "3.   Finally, if the result of the check is negative, we then expand the node. To expand a given node, we generate successor nodes adjacent to the current node, and add them to the frontier set. Note that if these successor nodes are already in the frontier, or have already been visited, then they should not be added to the frontier again.\n",
        "\n"
      ]
    },
    {
      "cell_type": "markdown",
      "metadata": {
        "id": "oZMhaLwA6qQU"
      },
      "source": [
        "<h3>Example: Breadth-First Search</h3>\n",
        "<h5>Initial State: 1,2,5,3,4,0,6,7,8</h5>\n",
        "\n",
        "\n",
        "<img src=\"https://sandipanweb.files.wordpress.com/2017/03/sol_b0.gif?w=676\" width=\"250\" align=\"center\">\n"
      ]
    },
    {
      "cell_type": "markdown",
      "metadata": {
        "id": "V5C3rav587_a"
      },
      "source": [
        "The nodes expanded by BFS (also the nodes that are in the fringe / frontier of the queue) are shown in the following figure:\n",
        "\n",
        "<img src=\"https://sandipanweb.files.wordpress.com/2017/03/fulltree_bfs.png?w=676\" width=\"750\" align=\"center\">"
      ]
    },
    {
      "cell_type": "markdown",
      "metadata": {
        "id": "GupQM00kHzsP"
      },
      "source": [
        "**Dear Students, in the code below there are few *TODO* task that you have to complete in this lab session.**"
      ]
    },
    {
      "cell_type": "code",
      "metadata": {
        "id": "rcBUwpzpAcr-"
      },
      "source": [
        "#Import the necessary libraries\n",
        "from time import time\n",
        "from queue import Queue"
      ],
      "execution_count": 8,
      "outputs": []
    },
    {
      "cell_type": "code",
      "metadata": {
        "id": "bBHJzbPW6pH-"
      },
      "source": [
        "#Creating a class Puzzle\n",
        "class Puzzle:\n",
        "    #Setting the goal state of 8-puzzle \n",
        "    goal_state=[1,2,3,8,0,4,7,6,5]\n",
        "    num_of_instances=0\n",
        "    #constructor to initialize the class members\n",
        "    def __init__(self,state,parent,action):\n",
        "        self.parent=parent\n",
        "        self.state=state\n",
        "        self.action=action\n",
        "        \n",
        "        #TODO: incrementing the number of instance by 1\n",
        "        Puzzle.num_of_instances+= 1\n",
        "   \n",
        "    #function used to display a state of 8-puzzle\n",
        "    def __str__(self):\n",
        "        return str(self.state[0:3])+'\\n'+str(self.state[3:6])+'\\n'+str(self.state[6:9])\n",
        "\n",
        "    #method to compare the current state with the goal state\n",
        "    def goal_test(self):\n",
        "        #TODO: include a condition to compare the current state with the goal state\n",
        "        if Puzzle.goal_state == self.state:\n",
        "            return True\n",
        "        else:\n",
        "            return False\n",
        "    \n",
        "    #static method to find the legal action based on the current board position\n",
        "    @staticmethod\n",
        "    def find_legal_actions(i,j):\n",
        "        legal_action = ['U', 'D', 'L', 'R']\n",
        "        if i == 0:  \n",
        "            # if row is 0 in board then up is disable\n",
        "            legal_action.remove('U')\n",
        "        elif i == 2:  \n",
        "            #TODO: down is disable\n",
        "            legal_action.remove('D')\n",
        "        if j == 0: \n",
        "            #TODO: Left is disable\n",
        "            legal_action.remove('L')\n",
        "        elif j == 2:\n",
        "            #TODO: Right is disable\n",
        "            legal_action.remove('R')\n",
        "        return legal_action\n",
        "\n",
        "    #method to generate the child of the current state of the board\n",
        "    def generate_child(self):\n",
        "        #TODO: create an empty list\n",
        "        children=[]\n",
        "        x = self.state.index(0)\n",
        "        i = int(x / 3)\n",
        "        j = int(x % 3)\n",
        "        #TODO: call the method to find the legal actions based on i and j values\n",
        "        legal_actions = self.find_legal_actions(i, j)\n",
        "\n",
        "        #TODO:Iterate over all legal actions \n",
        "        for action in legal_actions:\n",
        "            new_state = self.state.copy()\n",
        "            #if the legal action is UP\n",
        "            if action is 'U':\n",
        "                #Swapping between current index of 0 with its up element on the board\n",
        "                new_state[x], new_state[x-3] = new_state[x-3], new_state[x]\n",
        "            elif action is 'D':\n",
        "                #TODO: Swapping between current index of 0 with its down element on the board\n",
        "                new_state[x], new_state[x+3] = new_state[x+3], new_state[x]\n",
        "            elif action is 'L':\n",
        "                #TODO: Swapping between the current index of 0 with its left element on the board\n",
        "                new_state[x], new_state[x-1] = new_state[x-1], new_state[x]\n",
        "            elif action is 'R':\n",
        "                #TODO: Swapping between the current index of 0 with its right element on the board\n",
        "                new_state[x], new_state[x+1] = new_state[x+1], new_state[x]\n",
        "            children.append(Puzzle(new_state,self,action))\n",
        "        #TODO: return the children\n",
        "        return children\n",
        "    #method to find the solution\n",
        "    def find_solution(self):\n",
        "        solution = []\n",
        "        all_states = []\n",
        "        solution.append(self.action)\n",
        "        all_states.append(self)\n",
        "        path = self\n",
        "        while path.parent != None:\n",
        "            path = path.parent\n",
        "            solution.append(path.action)\n",
        "            all_states.append(path)\n",
        "        solution = solution[:-1]\n",
        "        solution.reverse()\n",
        "        all_states.reverse()\n",
        "        \n",
        "        print(\"\\nAll states: \")\n",
        "        for i in all_states:\n",
        "          print(i, \"\\n\")\n",
        "        return solution"
      ],
      "execution_count": 9,
      "outputs": []
    },
    {
      "cell_type": "code",
      "metadata": {
        "id": "WMcheK0f93H6"
      },
      "source": [
        "#method for breadth first search\n",
        "#TODO: pass the initial_state as parameter to the breadth_first_search method \n",
        "def breadth_first_search(initial_state):\n",
        "    start_node = Puzzle(initial_state, None, None)\n",
        "    print(\"Initial state:\")\n",
        "    print(start_node)\n",
        "    if start_node.goal_test():\n",
        "        return start_node.find_solution()\n",
        "    q = Queue()\n",
        "    #TODO: put start_node into the Queue\n",
        "    q.put(start_node)\n",
        "    #TODO: create an empty list of explored nodes\n",
        "    explored=[]\n",
        "    #TODO: Iterate the queue until empty. Use the empty() method of Queue\n",
        "    while not(q.empty()):\n",
        "        #TODO: get the current node of a queue. Use the get() method of Queue\n",
        "        node=q.get()\n",
        "        #TODO: Append the state of node in the explored list as node.state\n",
        "        explored.append(node.state)\n",
        "        #TODO: call the generate_child method to generate the child nodes of current node\n",
        "        children = node.generate_child()\n",
        "        #TODO: Iterate over each child node in children\n",
        "        for child in children:\n",
        "            if child.state not in explored:\n",
        "                if child.goal_test():\n",
        "                    return child.find_solution()\n",
        "                q.put(child)\n",
        "    return"
      ],
      "execution_count": 10,
      "outputs": []
    },
    {
      "cell_type": "code",
      "metadata": {
        "colab": {
          "base_uri": "https://localhost:8080/"
        },
        "id": "YY1EiLOk95Du",
        "outputId": "741a17ca-95c8-4340-e32a-be3985a9afdc"
      },
      "source": [
        "#Start executing the 8-puzzle with setting up the initial state\n",
        "#Here we have considered 3 initial state intitalized using state variable\n",
        "state=[[1, 3, 4,\n",
        "        8, 6, 2,\n",
        "        7, 0, 5],\n",
        "\n",
        "       [2, 8, 1,\n",
        "        0, 4, 3,\n",
        "        7, 6, 5],\n",
        "\n",
        "       [2, 8, 1,\n",
        "        4, 6, 3,\n",
        "        0, 7, 5]]\n",
        "#Iterate over number of initial_state\n",
        "for i in range(0,3):\n",
        "    #TODO: Initialize the num_of_instances to zero\n",
        "    Puzzle.num_of_instances = 0\n",
        "    #Set t0 to current time\n",
        "    t0=time()\n",
        "    bfs = breadth_first_search(state[i])\n",
        "    #Get the time t1 after executing the breadth_first_search method\n",
        "    t1=time()-t0\n",
        "    print('BFS:', bfs)\n",
        "    print('space:',Puzzle.num_of_instances)\n",
        "    print('time:',t1)\n",
        "    print()\n",
        "print('------------------------------------------')"
      ],
      "execution_count": 11,
      "outputs": [
        {
          "output_type": "stream",
          "text": [
            "Initial state:\n",
            "[1, 3, 4]\n",
            "[8, 6, 2]\n",
            "[7, 0, 5]\n",
            "\n",
            "All states: \n",
            "[1, 3, 4]\n",
            "[8, 6, 2]\n",
            "[7, 0, 5] \n",
            "\n",
            "[1, 3, 4]\n",
            "[8, 0, 2]\n",
            "[7, 6, 5] \n",
            "\n",
            "[1, 3, 4]\n",
            "[8, 2, 0]\n",
            "[7, 6, 5] \n",
            "\n",
            "[1, 3, 0]\n",
            "[8, 2, 4]\n",
            "[7, 6, 5] \n",
            "\n",
            "[1, 0, 3]\n",
            "[8, 2, 4]\n",
            "[7, 6, 5] \n",
            "\n",
            "[1, 2, 3]\n",
            "[8, 0, 4]\n",
            "[7, 6, 5] \n",
            "\n",
            "BFS: ['U', 'R', 'U', 'L', 'D']\n",
            "space: 66\n",
            "time: 0.0038673877716064453\n",
            "\n",
            "Initial state:\n",
            "[2, 8, 1]\n",
            "[0, 4, 3]\n",
            "[7, 6, 5]\n",
            "\n",
            "All states: \n",
            "[2, 8, 1]\n",
            "[0, 4, 3]\n",
            "[7, 6, 5] \n",
            "\n",
            "[0, 8, 1]\n",
            "[2, 4, 3]\n",
            "[7, 6, 5] \n",
            "\n",
            "[8, 0, 1]\n",
            "[2, 4, 3]\n",
            "[7, 6, 5] \n",
            "\n",
            "[8, 1, 0]\n",
            "[2, 4, 3]\n",
            "[7, 6, 5] \n",
            "\n",
            "[8, 1, 3]\n",
            "[2, 4, 0]\n",
            "[7, 6, 5] \n",
            "\n",
            "[8, 1, 3]\n",
            "[2, 0, 4]\n",
            "[7, 6, 5] \n",
            "\n",
            "[8, 1, 3]\n",
            "[0, 2, 4]\n",
            "[7, 6, 5] \n",
            "\n",
            "[0, 1, 3]\n",
            "[8, 2, 4]\n",
            "[7, 6, 5] \n",
            "\n",
            "[1, 0, 3]\n",
            "[8, 2, 4]\n",
            "[7, 6, 5] \n",
            "\n",
            "[1, 2, 3]\n",
            "[8, 0, 4]\n",
            "[7, 6, 5] \n",
            "\n",
            "BFS: ['U', 'R', 'R', 'D', 'L', 'L', 'U', 'R', 'D']\n",
            "space: 591\n",
            "time: 0.007525920867919922\n",
            "\n",
            "Initial state:\n",
            "[2, 8, 1]\n",
            "[4, 6, 3]\n",
            "[0, 7, 5]\n",
            "\n",
            "All states: \n",
            "[2, 8, 1]\n",
            "[4, 6, 3]\n",
            "[0, 7, 5] \n",
            "\n",
            "[2, 8, 1]\n",
            "[4, 6, 3]\n",
            "[7, 0, 5] \n",
            "\n",
            "[2, 8, 1]\n",
            "[4, 0, 3]\n",
            "[7, 6, 5] \n",
            "\n",
            "[2, 8, 1]\n",
            "[0, 4, 3]\n",
            "[7, 6, 5] \n",
            "\n",
            "[0, 8, 1]\n",
            "[2, 4, 3]\n",
            "[7, 6, 5] \n",
            "\n",
            "[8, 0, 1]\n",
            "[2, 4, 3]\n",
            "[7, 6, 5] \n",
            "\n",
            "[8, 1, 0]\n",
            "[2, 4, 3]\n",
            "[7, 6, 5] \n",
            "\n",
            "[8, 1, 3]\n",
            "[2, 4, 0]\n",
            "[7, 6, 5] \n",
            "\n",
            "[8, 1, 3]\n",
            "[2, 0, 4]\n",
            "[7, 6, 5] \n",
            "\n",
            "[8, 1, 3]\n",
            "[0, 2, 4]\n",
            "[7, 6, 5] \n",
            "\n",
            "[0, 1, 3]\n",
            "[8, 2, 4]\n",
            "[7, 6, 5] \n",
            "\n",
            "[1, 0, 3]\n",
            "[8, 2, 4]\n",
            "[7, 6, 5] \n",
            "\n",
            "[1, 2, 3]\n",
            "[8, 0, 4]\n",
            "[7, 6, 5] \n",
            "\n",
            "BFS: ['R', 'U', 'L', 'U', 'R', 'R', 'D', 'L', 'L', 'U', 'R', 'D']\n",
            "space: 2956\n",
            "time: 0.0616450309753418\n",
            "\n",
            "------------------------------------------\n"
          ],
          "name": "stdout"
        }
      ]
    },
    {
      "cell_type": "markdown",
      "metadata": {
        "id": "xB1cHqYRVBda"
      },
      "source": [
        "**BONUS TASK:**\n",
        "Now, perform the following task before submitting the assignment: \n",
        "\n",
        "\n",
        "Show the path in traversing the BFS algorithm of each state from intial_state to goal state.\n",
        "\n",
        "\n"
      ]
    }
  ]
}